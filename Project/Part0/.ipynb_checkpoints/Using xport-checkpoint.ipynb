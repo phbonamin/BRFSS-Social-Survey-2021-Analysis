{
 "cells": [
  {
   "cell_type": "code",
   "execution_count": 2,
   "id": "fb23f165",
   "metadata": {},
   "outputs": [],
   "source": [
    "import pandas as pd\n",
    "import numpy as np\n",
    "import xport\n",
    "import xport.v56"
   ]
  },
  {
   "cell_type": "code",
   "execution_count": null,
   "id": "c3da531c",
   "metadata": {},
   "outputs": [],
   "source": [
    "with open('Data/LLCP2021.XPT', 'rb') as f:\n",
    "    library = xport.v56.load(f)"
   ]
  },
  {
   "cell_type": "code",
   "execution_count": 1,
   "id": "b7595c26",
   "metadata": {},
   "outputs": [
    {
     "ename": "NameError",
     "evalue": "name 'library' is not defined",
     "output_type": "error",
     "traceback": [
      "\u001b[0;31m---------------------------------------------------------------------------\u001b[0m",
      "\u001b[0;31mNameError\u001b[0m                                 Traceback (most recent call last)",
      "Cell \u001b[0;32mIn[1], line 1\u001b[0m\n\u001b[0;32m----> 1\u001b[0m \u001b[38;5;28mtype\u001b[39m(\u001b[43mlibrary\u001b[49m[\u001b[38;5;124m'\u001b[39m\u001b[38;5;124mLLCP2021\u001b[39m\u001b[38;5;124m'\u001b[39m])\n",
      "\u001b[0;31mNameError\u001b[0m: name 'library' is not defined"
     ]
    }
   ],
   "source": [
    "type(library['LLCP2021'])"
   ]
  },
  {
   "cell_type": "code",
   "execution_count": null,
   "id": "d7393a97",
   "metadata": {},
   "outputs": [],
   "source": [
    "df = pd.DataFrame(library['LLCP2021'])"
   ]
  },
  {
   "cell_type": "code",
   "execution_count": null,
   "id": "3cec1d6a",
   "metadata": {},
   "outputs": [],
   "source": [
    "df.head()"
   ]
  },
  {
   "cell_type": "code",
   "execution_count": null,
   "id": "e80496dd",
   "metadata": {},
   "outputs": [],
   "source": [
    "df.columns[df.notnull().all()].tolist()"
   ]
  },
  {
   "cell_type": "code",
   "execution_count": null,
   "id": "d6b3b4c0",
   "metadata": {},
   "outputs": [],
   "source": [
    "df.to_csv(\"Data/LLCP2021V2.csv\", index = True)"
   ]
  }
 ],
 "metadata": {
  "kernelspec": {
   "display_name": "Python 3 (ipykernel)",
   "language": "python",
   "name": "python3"
  },
  "language_info": {
   "codemirror_mode": {
    "name": "ipython",
    "version": 3
   },
   "file_extension": ".py",
   "mimetype": "text/x-python",
   "name": "python",
   "nbconvert_exporter": "python",
   "pygments_lexer": "ipython3",
   "version": "3.10.6"
  }
 },
 "nbformat": 4,
 "nbformat_minor": 5
}
